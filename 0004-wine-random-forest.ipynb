{
 "cells": [
  {
   "cell_type": "code",
   "execution_count": 1,
   "metadata": {
    "collapsed": false
   },
   "outputs": [],
   "source": [
    "import numpy as np\n",
    "import pandas as pd\n",
    "import matplotlib.pylab as plt\n",
    "from matplotlib import style\n",
    "style.use('seaborn-white')\n",
    "from sklearn.model_selection import train_test_split\n",
    "from sklearn import preprocessing\n",
    "from sklearn.ensemble import RandomForestRegressor\n",
    "from sklearn.pipeline import make_pipeline\n",
    "from sklearn.model_selection import GridSearchCV\n",
    "from sklearn.metrics import r2_score\n",
    "from sklearn.externals import joblib \n",
    "\n",
    "columns = ['id','Clump Thickness','Uniformity of Cell Size','Uniformity of Cell Shape',\n",
    "           'Marginal Adhesion','Single Epithelial','Cell Size','Bare Nuclei','Bland Chromatin','Normal Nucleoli'\n",
    "           'Mitoses','Class']\n",
    "dataset_url = 'http://archive.ics.uci.edu/ml/machine-learning-databases/breast-cancer-wisconsin/breast-cancer-wisconsin.data'\n",
    "data = pd.read_csv(dataset_url, sep=',', names=columns).replace('?', -99999)\n",
    " \n",
    "data.drop(['id','Class'],axis=1).plot(kind='hist', subplots=True, layout=(4,2), sharex=True, sharey=True)\n",
    "plt.show()"
   ]
  },
  {
   "cell_type": "code",
   "execution_count": 2,
   "metadata": {
    "collapsed": false
   },
   "outputs": [],
   "source": [
    "imp = preprocessing.Imputer(missing_values=-99999, strategy='mean', axis=0)\n",
    "data = pd.DataFrame(imp.fit_transform(data),index = data.index, columns = data.columns)"
   ]
  },
  {
   "cell_type": "code",
   "execution_count": 3,
   "metadata": {
    "collapsed": false
   },
   "outputs": [],
   "source": [
    "y = data.Class\n",
    "X = data.drop(['Class','id'], axis=1)\n",
    "X_train, X_test, y_train, y_test = train_test_split(X, y, test_size=0.2)"
   ]
  },
  {
   "cell_type": "code",
   "execution_count": 4,
   "metadata": {
    "collapsed": true
   },
   "outputs": [],
   "source": [
    "pipeline = make_pipeline(preprocessing.StandardScaler(), RandomForestRegressor(n_estimators=100, verbose = 0, n_jobs = -1))\n",
    " \n",
    "hyperparameters = { 'randomforestregressor__max_features' : ['auto', 'sqrt', 'log2'],\n",
    "'randomforestregressor__max_depth': [None, 7, 5, 3]}"
   ]
  },
  {
   "cell_type": "code",
   "execution_count": 5,
   "metadata": {
    "collapsed": false
   },
   "outputs": [],
   "source": [
    "model = GridSearchCV(pipeline, hyperparameters, cv=10, verbose = 0, n_jobs = -1)\n",
    "model.fit(X_train, y_train)\n",
    "pred = pd.DataFrame(model.predict(X_test),index = X_test.index, columns = ['prediction'])"
   ]
  },
  {
   "cell_type": "code",
   "execution_count": 6,
   "metadata": {
    "collapsed": false
   },
   "outputs": [
    {
     "name": "stdout",
     "output_type": "stream",
     "text": [
      "{'randomforestregressor__max_depth': 5, 'randomforestregressor__max_features': 'sqrt'}\n",
      "r2 score:0.924239466423\n"
     ]
    }
   ],
   "source": [
    "print(model.best_params_)\n",
    "print(\"r2 score:\" + str(r2_score(y_test, pred)))"
   ]
  },
  {
   "cell_type": "code",
   "execution_count": 7,
   "metadata": {
    "collapsed": false
   },
   "outputs": [
    {
     "data": {
      "text/plain": [
       "['rf_regressor.pkl']"
      ]
     },
     "execution_count": 7,
     "metadata": {},
     "output_type": "execute_result"
    }
   ],
   "source": [
    "joblib.dump(model, 'rf_regressor.pkl')"
   ]
  }
 ],
 "metadata": {
  "anaconda-cloud": {},
  "kernelspec": {
   "display_name": "Python [Root]",
   "language": "python",
   "name": "Python [Root]"
  },
  "language_info": {
   "codemirror_mode": {
    "name": "ipython",
    "version": 3
   },
   "file_extension": ".py",
   "mimetype": "text/x-python",
   "name": "python",
   "nbconvert_exporter": "python",
   "pygments_lexer": "ipython3",
   "version": "3.5.2"
  }
 },
 "nbformat": 4,
 "nbformat_minor": 1
}
