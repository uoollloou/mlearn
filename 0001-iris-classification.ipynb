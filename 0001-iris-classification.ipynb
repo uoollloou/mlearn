{
 "cells": [
  {
   "cell_type": "code",
   "execution_count": 2,
   "metadata": {
    "collapsed": true
   },
   "outputs": [],
   "source": [
    "# fisher`s iris classification with svm\n",
    "import pandas as pd\n",
    "import numpy as np\n",
    "import pickle\n",
    "import matplotlib.pyplot as plt\n",
    "%matplotlib inline\n",
    "from pandas.tools.plotting import radviz, scatter_matrix\n",
    "from sklearn import preprocessing, cross_validation, neighbors, svm"
   ]
  },
  {
   "cell_type": "code",
   "execution_count": 3,
   "metadata": {
    "collapsed": false
   },
   "outputs": [
    {
     "name": "stdout",
     "output_type": "stream",
     "text": [
      "   sepal-length  sepal-width  petal-length  petal-width        class\n",
      "0           5.1          3.5           1.4          0.2  Iris-setosa\n",
      "1           4.9          3.0           1.4          0.2  Iris-setosa\n",
      "2           4.7          3.2           1.3          0.2  Iris-setosa\n",
      "3           4.6          3.1           1.5          0.2  Iris-setosa\n",
      "4           5.0          3.6           1.4          0.2  Iris-setosa\n"
     ]
    }
   ],
   "source": [
    "names = ['sepal-length', 'sepal-width', 'petal-length', 'petal-width', 'class']\n",
    "iris = pd.read_csv(\"iris.data\", names=names)\n",
    "print(iris.head())"
   ]
  },
  {
   "cell_type": "code",
   "execution_count": 4,
   "metadata": {
    "collapsed": false
   },
   "outputs": [
    {
     "name": "stdout",
     "output_type": "stream",
     "text": [
      "       sepal-length  sepal-width  petal-length  petal-width\n",
      "count    150.000000   150.000000    150.000000   150.000000\n",
      "mean       5.843333     3.054000      3.758667     1.198667\n",
      "std        0.828066     0.433594      1.764420     0.763161\n",
      "min        4.300000     2.000000      1.000000     0.100000\n",
      "25%        5.100000     2.800000      1.600000     0.300000\n",
      "50%        5.800000     3.000000      4.350000     1.300000\n",
      "75%        6.400000     3.300000      5.100000     1.800000\n",
      "max        7.900000     4.400000      6.900000     2.500000\n"
     ]
    }
   ],
   "source": [
    "print(iris.describe())"
   ]
  },
  {
   "cell_type": "code",
   "execution_count": 5,
   "metadata": {
    "collapsed": false
   },
   "outputs": [
    {
     "data": {
      "image/png": "iVBORw0KGgoAAAANSUhEUgAAAXEAAAEACAYAAABF+UbAAAAABHNCSVQICAgIfAhkiAAAAAlwSFlz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\nxM3Metj/B/+l2n1OEsqCAAAAAElFTkSuQmCC\n",
      "text/plain": [
       "<matplotlib.figure.Figure at 0xacf1c50>"
      ]
     },
     "metadata": {},
     "output_type": "display_data"
    }
   ],
   "source": [
    "iris.plot(kind='box', subplots=True, layout=(2,2), sharex=False, sharey=False)\n",
    "plt.show()"
   ]
  },
  {
   "cell_type": "code",
   "execution_count": 6,
   "metadata": {
    "collapsed": false
   },
   "outputs": [
    {
     "data": {
      "image/png": "iVBORw0KGgoAAAANSUhEUgAAAXUAAAEKCAYAAADticXcAAAABHNCSVQICAgIfAhkiAAAAAlwSFlz\nAAALEgAACxIB0t1+/AAAIABJREFUeJztnXu8JVV157+/bqDtBqFB9F4U6dZMhI9EaBgHdVC5rWiA\nRDCOMRFHGs0Yx8HIK440jJ/GFg04M0jER4ISBEYiyATF0QgY+mIwggrddksaItLNS/r64CWigPSa\nP/Y+fU+fex71PFV1zvp+PvW59dprrV217j5Vq/ZeW2aG4ziOMxrMq9oAx3Ecpzi8UXccxxkhvFF3\nHMcZIbxRdxzHGSG8UXccxxkhvFF3HMcZIbxRLxFJF0la3ef4JkmvGaZNUe8SSVsl+f13SmOQ/6eQ\n80tJS3scWyHpn/uUPUzSvXltaBL+T52CqhrhvPSw2wcoOKmoyv/N7JlmtrnfKa2V+LDywl7HxwFv\n1B3HGSXGqgHvxlg26vGJ4zRJt0n6haQLJe0Uj/2hpLWSHpJ0o6SXxP2XAPsAX5X0qKS/jPuvkPRA\nPH9a0osz2qRo052Sfibpi5IWx2OtcMlxku6W9FNJp7eVfYakiyU9GOv0/tYrZy+7AQH/uZs8Z7Sp\ng/9LOl7S1W3bP5J0edv2PZIOiOvbnr4l7SHpakmPSLoJ+J22MjcQ/Hp9tPGPZw/pFEkzku6XdHzm\ni9cEzGzsFmATsB54LrAYuBFYDSwDZoCXEpzj7fHcHdvKLe+QdTywCNgROBdY23bsImD1ADteE9dP\nBP4F2CvK+gxwWTy2BNgK/C2wE3AA8Btg33j8bGANsGus0w+Aezr0LG/b7ivPl9Fe6uD/wAuAB+P6\nXsDmls8CLwR+0Xbu08AL4/oX4/IMYH/gPuBbbeduBV7Qtn0Y8BSwCpgPHAn8Ctit6vtQ1jKWT+qR\n883sJ2b2MPAR4Fjgz4G/MbPvW+BS4Ang5W3l1C7EzD5vZo+b2VOEf4wDJT0zgz3vBs4wswfaZL25\n7WOmAWea2ZNmtp7QcB8Yj/0x8BEze9TMfgJ8oot8dWz3k+eMPpX6v5ltAn4paRnwauAa4CeSXhS3\n2z9+CiD+L7wJ+KCZ
